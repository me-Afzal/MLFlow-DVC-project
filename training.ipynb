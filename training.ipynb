{
 "cells": [
  {
   "cell_type": "code",
   "execution_count": 11,
   "id": "deeaa061",
   "metadata": {},
   "outputs": [],
   "source": [
    "import mlflow\n",
    "from sklearn.ensemble import RandomForestClassifier\n",
    "import pandas as pd\n",
    "from sklearn.linear_model import LogisticRegression\n",
    "from xgboost import XGBClassifier\n",
    "from sklearn.preprocessing import LabelEncoder,StandardScaler\n",
    "from sklearn.model_selection import train_test_split\n",
    "from sklearn.metrics import classification_report"
   ]
  },
  {
   "cell_type": "code",
   "execution_count": 8,
   "id": "a1632ef8",
   "metadata": {},
   "outputs": [
    {
     "data": {
      "text/html": [
       "<div>\n",
       "<style scoped>\n",
       "    .dataframe tbody tr th:only-of-type {\n",
       "        vertical-align: middle;\n",
       "    }\n",
       "\n",
       "    .dataframe tbody tr th {\n",
       "        vertical-align: top;\n",
       "    }\n",
       "\n",
       "    .dataframe thead th {\n",
       "        text-align: right;\n",
       "    }\n",
       "</style>\n",
       "<table border=\"1\" class=\"dataframe\">\n",
       "  <thead>\n",
       "    <tr style=\"text-align: right;\">\n",
       "      <th></th>\n",
       "      <th>sepal_length</th>\n",
       "      <th>sepal_width</th>\n",
       "      <th>petal_length</th>\n",
       "      <th>petal_width</th>\n",
       "      <th>species</th>\n",
       "    </tr>\n",
       "  </thead>\n",
       "  <tbody>\n",
       "    <tr>\n",
       "      <th>0</th>\n",
       "      <td>5.1</td>\n",
       "      <td>3.5</td>\n",
       "      <td>1.4</td>\n",
       "      <td>0.2</td>\n",
       "      <td>Iris-setosa</td>\n",
       "    </tr>\n",
       "    <tr>\n",
       "      <th>1</th>\n",
       "      <td>4.9</td>\n",
       "      <td>3.0</td>\n",
       "      <td>1.4</td>\n",
       "      <td>0.2</td>\n",
       "      <td>Iris-setosa</td>\n",
       "    </tr>\n",
       "    <tr>\n",
       "      <th>2</th>\n",
       "      <td>4.7</td>\n",
       "      <td>3.2</td>\n",
       "      <td>1.3</td>\n",
       "      <td>0.2</td>\n",
       "      <td>Iris-setosa</td>\n",
       "    </tr>\n",
       "    <tr>\n",
       "      <th>3</th>\n",
       "      <td>4.6</td>\n",
       "      <td>3.1</td>\n",
       "      <td>1.5</td>\n",
       "      <td>0.2</td>\n",
       "      <td>Iris-setosa</td>\n",
       "    </tr>\n",
       "    <tr>\n",
       "      <th>4</th>\n",
       "      <td>5.0</td>\n",
       "      <td>3.6</td>\n",
       "      <td>1.4</td>\n",
       "      <td>0.2</td>\n",
       "      <td>Iris-setosa</td>\n",
       "    </tr>\n",
       "  </tbody>\n",
       "</table>\n",
       "</div>"
      ],
      "text/plain": [
       "   sepal_length  sepal_width  petal_length  petal_width      species\n",
       "0           5.1          3.5           1.4          0.2  Iris-setosa\n",
       "1           4.9          3.0           1.4          0.2  Iris-setosa\n",
       "2           4.7          3.2           1.3          0.2  Iris-setosa\n",
       "3           4.6          3.1           1.5          0.2  Iris-setosa\n",
       "4           5.0          3.6           1.4          0.2  Iris-setosa"
      ]
     },
     "execution_count": 8,
     "metadata": {},
     "output_type": "execute_result"
    }
   ],
   "source": [
    "df=pd.read_csv('data/IRIS.csv')\n",
    "df.head()"
   ]
  },
  {
   "cell_type": "code",
   "execution_count": 9,
   "id": "30dbbebf",
   "metadata": {},
   "outputs": [],
   "source": [
    "encoder=LabelEncoder()\n",
    "scaler=StandardScaler()\n",
    "\n",
    "df.species=encoder.fit_transform(df.species)\n",
    "\n",
    "x=df.drop(columns=['species'])\n",
    "y=df.species\n",
    "x_train,x_test,y_train,y_test=train_test_split(x,y,test_size=0.2,random_state=42)\n",
    "\n",
    "x_train=scaler.fit_transform(x_train)\n",
    "x_test=scaler.transform(x_test)"
   ]
  },
  {
   "cell_type": "code",
   "execution_count": 10,
   "id": "90c267ce",
   "metadata": {},
   "outputs": [
    {
     "name": "stdout",
     "output_type": "stream",
     "text": [
      "0 => Iris-setosa\n",
      "1 => Iris-versicolor\n",
      "2 => Iris-virginica\n"
     ]
    }
   ],
   "source": [
    "# Labels of class names\n",
    "for i,name in enumerate(encoder.classes_):\n",
    "    print(f\"{i} => {name}\")"
   ]
  },
  {
   "cell_type": "code",
   "execution_count": 16,
   "id": "a5859295",
   "metadata": {},
   "outputs": [
    {
     "name": "stdout",
     "output_type": "stream",
     "text": [
      "{'0': {'precision': 1.0, 'recall': 1.0, 'f1-score': 1.0, 'support': 10.0}, '1': {'precision': 1.0, 'recall': 1.0, 'f1-score': 1.0, 'support': 9.0}, '2': {'precision': 1.0, 'recall': 1.0, 'f1-score': 1.0, 'support': 11.0}, 'accuracy': 1.0, 'macro avg': {'precision': 1.0, 'recall': 1.0, 'f1-score': 1.0, 'support': 30.0}, 'weighted avg': {'precision': 1.0, 'recall': 1.0, 'f1-score': 1.0, 'support': 30.0}}\n"
     ]
    },
    {
     "name": "stderr",
     "output_type": "stream",
     "text": [
      "c:\\Users\\afzal\\Jupyter Workspace\\tf_env\\Lib\\site-packages\\sklearn\\linear_model\\_logistic.py:1247: FutureWarning: 'multi_class' was deprecated in version 1.5 and will be removed in 1.7. From then on, it will always use 'multinomial'. Leave it to its default value to avoid this warning.\n",
      "  warnings.warn(\n"
     ]
    }
   ],
   "source": [
    "#Logistic Regression\n",
    "params={\n",
    "    'solver':'lbfgs',\n",
    "    'max_iter':1000,\n",
    "    'multi_class':'auto',\n",
    "    'random_state':42\n",
    "}\n",
    "model=LogisticRegression(**params)\n",
    "model.fit(x_train,y_train)\n",
    "\n",
    "y_pred=model.predict(x_test)\n",
    "\n",
    "report=classification_report(y_test,y_pred,output_dict=True)\n",
    "print(report)"
   ]
  },
  {
   "cell_type": "code",
   "execution_count": 17,
   "id": "3d1b9c03",
   "metadata": {},
   "outputs": [
    {
     "name": "stderr",
     "output_type": "stream",
     "text": [
      "2025/07/24 20:32:56 WARNING mlflow.models.model: `artifact_path` is deprecated. Please use `name` instead.\n",
      "2025/07/24 20:32:59 WARNING mlflow.models.model: Model logged without a signature and input example. Please set `input_example` parameter when logging the model to auto infer the model signature.\n"
     ]
    },
    {
     "name": "stdout",
     "output_type": "stream",
     "text": [
      "🏃 View run Logistic Regression at: http://127.0.0.1:5000/#/experiments/425609157019054925/runs/83dda0bc149f4969bb7e5a3a496995d6\n",
      "🧪 View experiment at: http://127.0.0.1:5000/#/experiments/425609157019054925\n"
     ]
    }
   ],
   "source": [
    "mlflow.set_experiment('First experiment')\n",
    "mlflow.set_tracking_uri('http://127.0.0.1:5000')\n",
    "\n",
    "with mlflow.start_run(run_name='Logistic Regression'):\n",
    "    mlflow.log_param('model_name','Logistic Regression')\n",
    "    mlflow.log_params(params)\n",
    "    mlflow.log_metrics({\n",
    "        'Accuracy':report['accuracy'],\n",
    "        'Recall_Class_0':report['0']['recall'],\n",
    "        'Recall_Class_1':report['1']['recall'],\n",
    "        'Recall_Class_2':report['2']['recall'],\n",
    "        'Precision_Class_0':report['0']['precision'],\n",
    "        'Precision_Class_1':report['1']['precision'],\n",
    "        'Precision_Class_2':report['2']['precision'],\n",
    "        'F1_Score_macro_avg':report['macro avg']['f1-score']\n",
    "    })\n",
    "    mlflow.sklearn.log_model(model,'model')"
   ]
  },
  {
   "cell_type": "code",
   "execution_count": null,
   "id": "d6352918",
   "metadata": {},
   "outputs": [
    {
     "name": "stdout",
     "output_type": "stream",
     "text": [
      "{'0': {'precision': 1.0, 'recall': 1.0, 'f1-score': 1.0, 'support': 10.0}, '1': {'precision': 1.0, 'recall': 1.0, 'f1-score': 1.0, 'support': 9.0}, '2': {'precision': 1.0, 'recall': 1.0, 'f1-score': 1.0, 'support': 11.0}, 'accuracy': 1.0, 'macro avg': {'precision': 1.0, 'recall': 1.0, 'f1-score': 1.0, 'support': 30.0}, 'weighted avg': {'precision': 1.0, 'recall': 1.0, 'f1-score': 1.0, 'support': 30.0}}\n"
     ]
    }
   ],
   "source": [
    "# Random Forest Classifier with 50 DTs\n",
    "\n",
    "params={\n",
    "    'n_estimators':50,\n",
    "    'random_state':42\n",
    "}\n",
    "model=RandomForestClassifier(**params)\n",
    "model.fit(x_train,y_train)\n",
    "\n",
    "y_pred=model.predict(x_test)\n",
    "\n",
    "report=classification_report(y_test,y_pred,output_dict=True)\n",
    "print(report)"
   ]
  },
  {
   "cell_type": "code",
   "execution_count": 19,
   "id": "185d00e5",
   "metadata": {},
   "outputs": [
    {
     "name": "stderr",
     "output_type": "stream",
     "text": [
      "2025/07/24 20:33:48 WARNING mlflow.models.model: `artifact_path` is deprecated. Please use `name` instead.\n",
      "2025/07/24 20:33:51 WARNING mlflow.models.model: Model logged without a signature and input example. Please set `input_example` parameter when logging the model to auto infer the model signature.\n"
     ]
    },
    {
     "name": "stdout",
     "output_type": "stream",
     "text": [
      "🏃 View run Random Forest Classifier 1st at: http://127.0.0.1:5000/#/experiments/425609157019054925/runs/2fb20b6bb5a84996a9695296b0a36785\n",
      "🧪 View experiment at: http://127.0.0.1:5000/#/experiments/425609157019054925\n"
     ]
    }
   ],
   "source": [
    "\n",
    "with mlflow.start_run(run_name='Random Forest Classifier 1st'):\n",
    "    mlflow.log_param('model_name','Random Forest Classifier 1st')\n",
    "    mlflow.log_params(params)\n",
    "    mlflow.log_metrics({\n",
    "        'Accuracy':report['accuracy'],\n",
    "        'Recall_Class_0':report['0']['recall'],\n",
    "        'Recall_Class_1':report['1']['recall'],\n",
    "        'Recall_Class_2':report['2']['recall'],\n",
    "        'Precision_Class_0':report['0']['precision'],\n",
    "        'Precision_Class_1':report['1']['precision'],\n",
    "        'Precision_Class_2':report['2']['precision'],\n",
    "        'F1_Score_macro_avg':report['macro avg']['f1-score']\n",
    "    })\n",
    "    mlflow.sklearn.log_model(model,'model')"
   ]
  },
  {
   "cell_type": "code",
   "execution_count": null,
   "id": "dafd6f38",
   "metadata": {},
   "outputs": [
    {
     "name": "stdout",
     "output_type": "stream",
     "text": [
      "{'0': {'precision': 1.0, 'recall': 1.0, 'f1-score': 1.0, 'support': 10.0}, '1': {'precision': 1.0, 'recall': 1.0, 'f1-score': 1.0, 'support': 9.0}, '2': {'precision': 1.0, 'recall': 1.0, 'f1-score': 1.0, 'support': 11.0}, 'accuracy': 1.0, 'macro avg': {'precision': 1.0, 'recall': 1.0, 'f1-score': 1.0, 'support': 30.0}, 'weighted avg': {'precision': 1.0, 'recall': 1.0, 'f1-score': 1.0, 'support': 30.0}}\n"
     ]
    }
   ],
   "source": [
    "# Random Forest Classifier with 100 DTs\n",
    "\n",
    "params={\n",
    "    'n_estimators':100,\n",
    "    'random_state':42\n",
    "}\n",
    "model=RandomForestClassifier(**params)\n",
    "model.fit(x_train,y_train)\n",
    "\n",
    "y_pred=model.predict(x_test)\n",
    "\n",
    "report=classification_report(y_test,y_pred,output_dict=True)\n",
    "print(report)"
   ]
  },
  {
   "cell_type": "code",
   "execution_count": 22,
   "id": "6b7ecebc",
   "metadata": {},
   "outputs": [
    {
     "name": "stderr",
     "output_type": "stream",
     "text": [
      "2025/07/24 20:34:34 WARNING mlflow.models.model: `artifact_path` is deprecated. Please use `name` instead.\n",
      "2025/07/24 20:34:37 WARNING mlflow.models.model: Model logged without a signature and input example. Please set `input_example` parameter when logging the model to auto infer the model signature.\n"
     ]
    },
    {
     "name": "stdout",
     "output_type": "stream",
     "text": [
      "🏃 View run Random Forest Classifier 2nd at: http://127.0.0.1:5000/#/experiments/425609157019054925/runs/1961b62188444a5b8b451435568461b1\n",
      "🧪 View experiment at: http://127.0.0.1:5000/#/experiments/425609157019054925\n"
     ]
    }
   ],
   "source": [
    "\n",
    "with mlflow.start_run(run_name='Random Forest Classifier 2nd'):\n",
    "    mlflow.log_param('model_name','Random Forest Classifier 2nd')\n",
    "    mlflow.log_params(params)\n",
    "    mlflow.log_metrics({\n",
    "        'Accuracy':report['accuracy'],\n",
    "        'Recall_Class_0':report['0']['recall'],\n",
    "        'Recall_Class_1':report['1']['recall'],\n",
    "        'Recall_Class_2':report['2']['recall'],\n",
    "        'Precision_Class_0':report['0']['precision'],\n",
    "        'Precision_Class_1':report['1']['precision'],\n",
    "        'Precision_Class_2':report['2']['precision'],\n",
    "        'F1_Score_macro_avg':report['macro avg']['f1-score']\n",
    "    })\n",
    "    mlflow.sklearn.log_model(model,'model')"
   ]
  },
  {
   "cell_type": "code",
   "execution_count": 31,
   "id": "b105efa1",
   "metadata": {},
   "outputs": [
    {
     "name": "stdout",
     "output_type": "stream",
     "text": [
      "{'0': {'precision': 1.0, 'recall': 1.0, 'f1-score': 1.0, 'support': 10.0}, '1': {'precision': 1.0, 'recall': 1.0, 'f1-score': 1.0, 'support': 9.0}, '2': {'precision': 1.0, 'recall': 1.0, 'f1-score': 1.0, 'support': 11.0}, 'accuracy': 1.0, 'macro avg': {'precision': 1.0, 'recall': 1.0, 'f1-score': 1.0, 'support': 30.0}, 'weighted avg': {'precision': 1.0, 'recall': 1.0, 'f1-score': 1.0, 'support': 30.0}}\n"
     ]
    }
   ],
   "source": [
    "# XGBoost Classifier \n",
    "\n",
    "params={\n",
    "    'n_estimators':100,\n",
    "    'max_depth':5,\n",
    "    'eval_metric':'mlogloss',\n",
    "    'random_state':42\n",
    "}\n",
    "model=XGBClassifier(**params)\n",
    "model.fit(x_train,y_train)\n",
    "\n",
    "y_pred=model.predict(x_test)\n",
    "\n",
    "report=classification_report(y_test,y_pred,output_dict=True)\n",
    "print(report)"
   ]
  },
  {
   "cell_type": "code",
   "execution_count": 32,
   "id": "6f2b86c8",
   "metadata": {},
   "outputs": [
    {
     "name": "stderr",
     "output_type": "stream",
     "text": [
      "2025/07/24 20:45:58 WARNING mlflow.models.model: `artifact_path` is deprecated. Please use `name` instead.\n",
      "2025/07/24 20:46:02 WARNING mlflow.models.model: Model logged without a signature and input example. Please set `input_example` parameter when logging the model to auto infer the model signature.\n"
     ]
    },
    {
     "name": "stdout",
     "output_type": "stream",
     "text": [
      "🏃 View run XGBoost Classifier at: http://127.0.0.1:5000/#/experiments/425609157019054925/runs/9eedc4b1e0b3409a8f564331293b035e\n",
      "🧪 View experiment at: http://127.0.0.1:5000/#/experiments/425609157019054925\n"
     ]
    }
   ],
   "source": [
    "\n",
    "with mlflow.start_run(run_name='XGBoost Classifier'):\n",
    "    mlflow.log_param('model_name','XGBoost Classifier')\n",
    "    mlflow.log_params(params)\n",
    "    mlflow.log_metrics({\n",
    "        'Accuracy':report['accuracy'],\n",
    "        'Recall_Class_0':report['0']['recall'],\n",
    "        'Recall_Class_1':report['1']['recall'],\n",
    "        'Recall_Class_2':report['2']['recall'],\n",
    "        'Precision_Class_0':report['0']['precision'],\n",
    "        'Precision_Class_1':report['1']['precision'],\n",
    "        'Precision_Class_2':report['2']['precision'],\n",
    "        'F1_Score_macro_avg':report['macro avg']['f1-score']\n",
    "    })\n",
    "    mlflow.xgboost.log_model(model,'model')"
   ]
  },
  {
   "cell_type": "markdown",
   "id": "548e213a",
   "metadata": {},
   "source": [
    "# Register model\n"
   ]
  },
  {
   "cell_type": "code",
   "execution_count": 33,
   "id": "f1243b4a",
   "metadata": {},
   "outputs": [
    {
     "name": "stderr",
     "output_type": "stream",
     "text": [
      "Registered model 'Iris Classification' already exists. Creating a new version of this model...\n",
      "2025/07/24 20:46:17 WARNING mlflow.tracking._model_registry.fluent: Run with id 9eedc4b1e0b3409a8f564331293b035e has no artifacts at artifact path 'model', registering model based on models:/m-e75f82cc859849aca2e9f5c8e981f6f6 instead\n",
      "2025/07/24 20:46:17 INFO mlflow.store.model_registry.abstract_store: Waiting up to 300 seconds for model version to finish creation. Model name: Iris Classification, version 4\n",
      "Created version '4' of model 'Iris Classification'.\n"
     ]
    }
   ],
   "source": [
    "#Registering XGBoost Classifier\n",
    "reg_name='Iris Classification'\n",
    "run_id='9eedc4b1e0b3409a8f564331293b035e'\n",
    "model_uri=f'runs:/{run_id}/model'\n",
    "\n",
    "result= mlflow.register_model(model_uri=model_uri,name=reg_name)"
   ]
  },
  {
   "cell_type": "code",
   "execution_count": 28,
   "id": "5ce5f9d4",
   "metadata": {},
   "outputs": [
    {
     "name": "stderr",
     "output_type": "stream",
     "text": [
      "Registered model 'Iris Classification' already exists. Creating a new version of this model...\n",
      "2025/07/24 20:41:41 WARNING mlflow.tracking._model_registry.fluent: Run with id 2fb20b6bb5a84996a9695296b0a36785 has no artifacts at artifact path 'model', registering model based on models:/m-bb3986e49ff344469a04e3c4be72f84f instead\n",
      "2025/07/24 20:41:42 INFO mlflow.store.model_registry.abstract_store: Waiting up to 300 seconds for model version to finish creation. Model name: Iris Classification, version 2\n",
      "Created version '2' of model 'Iris Classification'.\n"
     ]
    }
   ],
   "source": [
    "#Registering Random Forest Classifier with 50 DTs\n",
    "reg_name='Iris Classification'\n",
    "run_id='2fb20b6bb5a84996a9695296b0a36785'\n",
    "model_uri=f'runs:/{run_id}/model'\n",
    "\n",
    "result= mlflow.register_model(model_uri=model_uri,name=reg_name)"
   ]
  },
  {
   "cell_type": "code",
   "execution_count": 29,
   "id": "417a58fa",
   "metadata": {},
   "outputs": [
    {
     "name": "stderr",
     "output_type": "stream",
     "text": [
      "Registered model 'Iris Classification' already exists. Creating a new version of this model...\n",
      "2025/07/24 20:42:11 WARNING mlflow.tracking._model_registry.fluent: Run with id 1961b62188444a5b8b451435568461b1 has no artifacts at artifact path 'model', registering model based on models:/m-e2b26658ea604a7495fc5ea3e1d9fecc instead\n",
      "2025/07/24 20:42:11 INFO mlflow.store.model_registry.abstract_store: Waiting up to 300 seconds for model version to finish creation. Model name: Iris Classification, version 3\n",
      "Created version '3' of model 'Iris Classification'.\n"
     ]
    }
   ],
   "source": [
    "#Registering Random Forest Classifier with 100 DTs\n",
    "reg_name='Iris Classification'\n",
    "run_id='1961b62188444a5b8b451435568461b1'\n",
    "model_uri=f'runs:/{run_id}/model'\n",
    "\n",
    "result= mlflow.register_model(model_uri=model_uri,name=reg_name)"
   ]
  },
  {
   "cell_type": "markdown",
   "id": "c91dbe02",
   "metadata": {},
   "source": [
    "# Load Model"
   ]
  },
  {
   "cell_type": "code",
   "execution_count": 34,
   "id": "83a489d2",
   "metadata": {},
   "outputs": [
    {
     "data": {
      "application/vnd.jupyter.widget-view+json": {
       "model_id": "3ee51191b6c04c448a29e5ccd31b43e0",
       "version_major": 2,
       "version_minor": 0
      },
      "text/plain": [
       "Downloading artifacts:   0%|          | 0/5 [00:00<?, ?it/s]"
      ]
     },
     "metadata": {},
     "output_type": "display_data"
    },
    {
     "name": "stdout",
     "output_type": "stream",
     "text": [
      "              precision    recall  f1-score   support\n",
      "\n",
      "           0       1.00      1.00      1.00        10\n",
      "           1       1.00      1.00      1.00         9\n",
      "           2       1.00      1.00      1.00        11\n",
      "\n",
      "    accuracy                           1.00        30\n",
      "   macro avg       1.00      1.00      1.00        30\n",
      "weighted avg       1.00      1.00      1.00        30\n",
      "\n"
     ]
    }
   ],
   "source": [
    "reg_name='Iris Classification'\n",
    "model_version=4\n",
    "model_uri=f'models:/{reg_name}/{model_version}'\n",
    "\n",
    "loaded_model=mlflow.xgboost.load_model(model_uri=model_uri)\n",
    "\n",
    "y_pred=loaded_model.predict(x_test)\n",
    "\n",
    "report=classification_report(y_test,y_pred)\n",
    "print(report)"
   ]
  },
  {
   "cell_type": "code",
   "execution_count": 35,
   "id": "cdec14b9",
   "metadata": {},
   "outputs": [
    {
     "data": {
      "application/vnd.jupyter.widget-view+json": {
       "model_id": "3652f5caa3ca400a9b6fb240d32fe9ea",
       "version_major": 2,
       "version_minor": 0
      },
      "text/plain": [
       "Downloading artifacts:   0%|          | 0/5 [00:00<?, ?it/s]"
      ]
     },
     "metadata": {},
     "output_type": "display_data"
    },
    {
     "name": "stdout",
     "output_type": "stream",
     "text": [
      "              precision    recall  f1-score   support\n",
      "\n",
      "           0       1.00      1.00      1.00        10\n",
      "           1       1.00      1.00      1.00         9\n",
      "           2       1.00      1.00      1.00        11\n",
      "\n",
      "    accuracy                           1.00        30\n",
      "   macro avg       1.00      1.00      1.00        30\n",
      "weighted avg       1.00      1.00      1.00        30\n",
      "\n"
     ]
    }
   ],
   "source": [
    "reg_name='Iris Classification'\n",
    "model_version=4\n",
    "model_uri=f'models:/{reg_name}@xgbnew'\n",
    "\n",
    "loaded_model=mlflow.xgboost.load_model(model_uri=model_uri)\n",
    "\n",
    "y_pred=loaded_model.predict(x_test)\n",
    "\n",
    "report=classification_report(y_test,y_pred)\n",
    "print(report)"
   ]
  },
  {
   "cell_type": "markdown",
   "id": "09be7e3d",
   "metadata": {},
   "source": [
    "# From Dev to Produnction"
   ]
  },
  {
   "cell_type": "code",
   "execution_count": 37,
   "id": "95157908",
   "metadata": {},
   "outputs": [
    {
     "name": "stderr",
     "output_type": "stream",
     "text": [
      "Successfully registered model 'Iris_Classification_Prod'.\n",
      "Copied version '4' of model 'Iris Classification' to version '1' of model 'Iris_Classification_Prod'.\n"
     ]
    },
    {
     "data": {
      "text/plain": [
       "<ModelVersion: aliases=[], creation_timestamp=1753370455149, current_stage='None', deployment_job_state=<ModelVersionDeploymentJobState: current_task_name='', job_id='', job_state='DEPLOYMENT_JOB_CONNECTION_STATE_UNSPECIFIED', run_id='', run_state='DEPLOYMENT_JOB_RUN_STATE_UNSPECIFIED'>, description='', last_updated_timestamp=1753370455149, metrics=None, model_id=None, name='Iris_Classification_Prod', params=None, run_id='9eedc4b1e0b3409a8f564331293b035e', run_link='', source='models:/Iris Classification/4', status='READY', status_message=None, tags={}, user_id='', version='1'>"
      ]
     },
     "execution_count": 37,
     "metadata": {},
     "output_type": "execute_result"
    }
   ],
   "source": [
    "dev_model_uri=f'models:/{reg_name}@xgbnew'\n",
    "prod_name='Iris_Classification_Prod'\n",
    "\n",
    "client=mlflow.MlflowClient()\n",
    "client.copy_model_version(src_model_uri=dev_model_uri,dst_name=prod_name)"
   ]
  },
  {
   "cell_type": "code",
   "execution_count": null,
   "id": "342ccf8f",
   "metadata": {},
   "outputs": [],
   "source": []
  }
 ],
 "metadata": {
  "kernelspec": {
   "display_name": "tf_env",
   "language": "python",
   "name": "python3"
  },
  "language_info": {
   "codemirror_mode": {
    "name": "ipython",
    "version": 3
   },
   "file_extension": ".py",
   "mimetype": "text/x-python",
   "name": "python",
   "nbconvert_exporter": "python",
   "pygments_lexer": "ipython3",
   "version": "3.11.0"
  }
 },
 "nbformat": 4,
 "nbformat_minor": 5
}
